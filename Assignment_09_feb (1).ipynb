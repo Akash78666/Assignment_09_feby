{
 "cells": [
  {
   "cell_type": "code",
   "execution_count": 9,
   "id": "a303ed40-c2cb-4ae0-87d3-f5d581abedc0",
   "metadata": {},
   "outputs": [],
   "source": [
    "class vehicle:\n",
    "    def __init__(self,name_of_vechicle,max_speed,average_of_vechicle):\n",
    "        self.__name_of_vechicle=name_of_vechicle\n",
    "        \n",
    "        self.__max_speed=max_speed\n",
    "        self.__average_of_vechicle=average_of_vechicle\n",
    "        self.__speed=0\n",
    "    def set_speed(self,speed):\n",
    "        self.__speed=0 if speed < 0 else speed\n",
    "    def get_speed(self):\n",
    "        return self.__speed\n",
    "        "
   ]
  },
  {
   "cell_type": "code",
   "execution_count": 11,
   "id": "b29816b1-09ca-4729-83cf-2368d436fdc0",
   "metadata": {},
   "outputs": [],
   "source": [
    "A=vehicle(\"toyata\",120,40)"
   ]
  },
  {
   "cell_type": "code",
   "execution_count": 12,
   "id": "ba311963-dcbc-44f2-8bf4-7133ed71ef74",
   "metadata": {},
   "outputs": [
    {
     "data": {
      "text/plain": [
       "120"
      ]
     },
     "execution_count": 12,
     "metadata": {},
     "output_type": "execute_result"
    }
   ],
   "source": [
    "A._vehicle__max_speed"
   ]
  },
  {
   "cell_type": "code",
   "execution_count": null,
   "id": "2432a17e-1e87-4436-b3fa-6c3349403418",
   "metadata": {},
   "outputs": [],
   "source": [
    "Q2. Create a child class car from the vehicle class created in Que 1, which will inherit the vehicle class.\n",
    "Create a method named seating_capacity which takes capacity as an argument and returns the name of\n",
    "the vehicle and its seating capacity."
   ]
  },
  {
   "cell_type": "code",
   "execution_count": null,
   "id": "75e63054-81f2-4fcb-abfa-dd0cee71adec",
   "metadata": {},
   "outputs": [],
   "source": [
    "#3. What is multiple inheritance? Write a python code to demonstrate multiple inheritance.\n",
    "#Ans:-When a class is derived from more than one base class it is called multiple Inheritance. The derived class inherits all the features of the base case. Syntax: Class Base1: Body of the class Class Base2: Body of the class Class Derived(Base1, Base2): Body of the class"
   ]
  },
  {
   "cell_type": "code",
   "execution_count": 36,
   "id": "2c353147-5a65-4bd0-93a7-e3877877cc76",
   "metadata": {},
   "outputs": [],
   "source": [
    "class name1 :\n",
    "    def test_name1(self) : \n",
    "        print(\"this is my name Akash \" )"
   ]
  },
  {
   "cell_type": "code",
   "execution_count": 37,
   "id": "0832c38a-db7d-4139-9866-a6dcc34b6429",
   "metadata": {},
   "outputs": [],
   "source": [
    "class name2(name1) : \n",
    "    def test_name2(self) : \n",
    "        print(\"this is my name2 sky\" )"
   ]
  },
  {
   "cell_type": "code",
   "execution_count": 38,
   "id": "e54b2042-f9bd-48af-9de2-bd388ffacff8",
   "metadata": {},
   "outputs": [],
   "source": [
    "class name3(name2) : \n",
    "    def test_name3(self) : \n",
    "        print(\"this is my name3 Roy\")"
   ]
  },
  {
   "cell_type": "code",
   "execution_count": 39,
   "id": "c4f20c9a-c1d7-442c-9b23-425a1ca7e36b",
   "metadata": {},
   "outputs": [],
   "source": [
    "obj_name3  = name3()"
   ]
  },
  {
   "cell_type": "code",
   "execution_count": 40,
   "id": "71a3a32d-2c65-462f-9d19-ed818918ad63",
   "metadata": {},
   "outputs": [
    {
     "name": "stdout",
     "output_type": "stream",
     "text": [
      "this is my name Akash \n"
     ]
    }
   ],
   "source": [
    "obj_name3.test_name1()"
   ]
  },
  {
   "cell_type": "code",
   "execution_count": 41,
   "id": "99f6c822-5335-438a-a74c-3ac864b98e1b",
   "metadata": {},
   "outputs": [
    {
     "name": "stdout",
     "output_type": "stream",
     "text": [
      "this is my name2 sky\n"
     ]
    }
   ],
   "source": [
    "obj_name3.test_name2()"
   ]
  },
  {
   "cell_type": "code",
   "execution_count": 42,
   "id": "fd037844-0cbb-4645-9c33-3eb530e4296c",
   "metadata": {},
   "outputs": [
    {
     "name": "stdout",
     "output_type": "stream",
     "text": [
      "this is my name3 Roy\n"
     ]
    }
   ],
   "source": [
    "obj_name3.test_name3()"
   ]
  },
  {
   "cell_type": "code",
   "execution_count": 63,
   "id": "7494af74-d21f-4b5c-aaa5-47daf642af1a",
   "metadata": {},
   "outputs": [],
   "source": [
    "class pwskills:\n",
    "    def __init__(self,course_price,coruse_name):\n",
    "        self.__coruse_price=course_price\n",
    "        self.coruse_name=coruse_name\n",
    "    @property\n",
    "    def course_price_access(self):\n",
    "        return self.__coruse_price\n",
    "            \n",
    "    \n",
    "    @course_price_access.setter\n",
    "    def course_price_set(self,price):\n",
    "        if price<=3520:\n",
    "            pass\n",
    "        else:\n",
    "            self.__course_price=price\n",
    "    @course_price_access.getter\n",
    "    def course_price_get(self,price):\n",
    "        if price<=3520:\n",
    "            pass\n",
    "        else:\n",
    "            self.__course_price=price       "
   ]
  },
  {
   "cell_type": "code",
   "execution_count": 70,
   "id": "34c40514-6f98-435a-99ff-b54752f6247d",
   "metadata": {},
   "outputs": [],
   "source": [
    "pw=pwskills(3500,\"self learing\")"
   ]
  },
  {
   "cell_type": "code",
   "execution_count": 71,
   "id": "c09b430d-49d9-4606-9897-d34d913e5695",
   "metadata": {},
   "outputs": [],
   "source": [
    "pw.course_price_set=4200"
   ]
  },
  {
   "cell_type": "code",
   "execution_count": 76,
   "id": "8c4f90c6-3a27-4e52-8d86-e96db98c816f",
   "metadata": {},
   "outputs": [
    {
     "ename": "TypeError",
     "evalue": "pwskills.course_price_get() missing 1 required positional argument: 'price'",
     "output_type": "error",
     "traceback": [
      "\u001b[0;31m---------------------------------------------------------------------------\u001b[0m",
      "\u001b[0;31mTypeError\u001b[0m                                 Traceback (most recent call last)",
      "Cell \u001b[0;32mIn[76], line 1\u001b[0m\n\u001b[0;32m----> 1\u001b[0m \u001b[43mpw\u001b[49m\u001b[38;5;241;43m.\u001b[39;49m\u001b[43mcourse_price_get\u001b[49m\n",
      "\u001b[0;31mTypeError\u001b[0m: pwskills.course_price_get() missing 1 required positional argument: 'price'"
     ]
    }
   ],
   "source": [
    "pw.course_price_get"
   ]
  },
  {
   "cell_type": "code",
   "execution_count": 77,
   "id": "89ad98bc-826b-488e-949e-1dac40f6ea2f",
   "metadata": {},
   "outputs": [],
   "source": [
    "\n",
    "\n",
    "#What is method overriding in python?\n",
    "#Ans:- Method overriding is a feature of object-oriented programming languages where the subclass or child class can provide the program with specific characteristics or a specific implementation process of data provided that are already defined in the parent class or superclass.\n",
    "class pwskills2 : \n",
    "    \n",
    "    mobile_num = 912342424\n",
    "    \n",
    "    def __init__(self , name , email) :\n",
    "        \n",
    "        self.name = name \n",
    "        self.email = email\n",
    "    \n",
    "    @classmethod\n",
    "    def change_number(cls, mobile):\n",
    "        pwskills2.mobile_num = mobile\n",
    "    \n",
    "    @classmethod\n",
    "    def details(cls ,name, email ):\n",
    "        return cls(name , email)\n",
    "        \n",
    "    def students_details(self):\n",
    "        print(self.name , self.email,pwskills2.mobile_num)"
   ]
  },
  {
   "cell_type": "code",
   "execution_count": 78,
   "id": "c9b9fa23-13b2-4697-85e6-53d609bb3058",
   "metadata": {},
   "outputs": [],
   "source": [
    "pw = pwskills2.details(\"rohan\" , \"rohan@gmail.com\")"
   ]
  },
  {
   "cell_type": "code",
   "execution_count": 79,
   "id": "5a4d41f8-5e72-494a-9fb3-3737edd8b16c",
   "metadata": {},
   "outputs": [
    {
     "name": "stdout",
     "output_type": "stream",
     "text": [
      "rohan rohan@gmail.com 912342424\n"
     ]
    }
   ],
   "source": [
    "pw.students_details()"
   ]
  },
  {
   "cell_type": "code",
   "execution_count": 82,
   "id": "d1350879-7b47-4b4c-98ed-3c3db1723716",
   "metadata": {},
   "outputs": [],
   "source": [
    "pwskills2.change_number(7301741451)"
   ]
  },
  {
   "cell_type": "code",
   "execution_count": 83,
   "id": "dd413c77-b489-49a6-ab15-4d26ef472cb2",
   "metadata": {},
   "outputs": [
    {
     "name": "stdout",
     "output_type": "stream",
     "text": [
      "rohan rohan@gmail.com 7301741451\n"
     ]
    }
   ],
   "source": [
    "pw.students_details()"
   ]
  },
  {
   "cell_type": "code",
   "execution_count": 96,
   "id": "8e6d8844-9c39-44f0-b347-6a3f945d34dc",
   "metadata": {},
   "outputs": [],
   "source": [
    "class Vehicle:\n",
    "    def __init__(self, make, model, year):\n",
    "        self.make = make\n",
    "        self.model = model\n",
    "        self.year = year\n",
    "\n",
    "    def vehicle_info(self):\n",
    "        return f\"{self.make} {self.model} ({self.year})\"\n",
    "\n",
    "class Car(Vehicle):\n",
    "    def seating_capacity(self, capacity):\n",
    "        return f\"{self.vehicle_info()} has a seating capacity of {capacity} people.\"\n",
    "\n"
   ]
  },
  {
   "cell_type": "code",
   "execution_count": 88,
   "id": "acdbd272-682e-49a8-a776-1588d4df4169",
   "metadata": {},
   "outputs": [],
   "source": [
    "class car(Vehicle):\n",
    "        pass\n",
    "        "
   ]
  },
  {
   "cell_type": "code",
   "execution_count": 97,
   "id": "836eba4f-85f3-4756-8694-89717f44fcd0",
   "metadata": {},
   "outputs": [],
   "source": [
    "car_obj=car(\"TATA\",\"thar12\",2020)"
   ]
  },
  {
   "cell_type": "code",
   "execution_count": 98,
   "id": "474f419f-07f5-488a-af0c-5b3d356b4da4",
   "metadata": {},
   "outputs": [],
   "source": [
    "car.seating_capacity=60"
   ]
  },
  {
   "cell_type": "code",
   "execution_count": null,
   "id": "9ef1d84b-6352-4c9d-8d62-30ba5c4afdb5",
   "metadata": {},
   "outputs": [],
   "source": []
  }
 ],
 "metadata": {
  "kernelspec": {
   "display_name": "Python 3 (ipykernel)",
   "language": "python",
   "name": "python3"
  },
  "language_info": {
   "codemirror_mode": {
    "name": "ipython",
    "version": 3
   },
   "file_extension": ".py",
   "mimetype": "text/x-python",
   "name": "python",
   "nbconvert_exporter": "python",
   "pygments_lexer": "ipython3",
   "version": "3.10.8"
  }
 },
 "nbformat": 4,
 "nbformat_minor": 5
}
